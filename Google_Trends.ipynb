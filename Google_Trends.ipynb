{
  "nbformat": 4,
  "nbformat_minor": 0,
  "metadata": {
    "colab": {
      "name": "Untitled3.ipynb",
      "provenance": [],
      "authorship_tag": "ABX9TyN2NMIXscpQKbUJhiIOMIQk",
      "include_colab_link": true
    },
    "kernelspec": {
      "name": "python3",
      "display_name": "Python 3"
    }
  },
  "cells": [
    {
      "cell_type": "markdown",
      "metadata": {
        "id": "view-in-github",
        "colab_type": "text"
      },
      "source": [
        "<a href=\"https://colab.research.google.com/github/TheDataCurator/CapstoneShareables/blob/master/Google_Trends.ipynb\" target=\"_parent\"><img src=\"https://colab.research.google.com/assets/colab-badge.svg\" alt=\"Open In Colab\"/></a>"
      ]
    },
    {
      "cell_type": "markdown",
      "metadata": {
        "id": "kcnTzn3Oixqi",
        "colab_type": "text"
      },
      "source": [
        "*Google* Trends"
      ]
    },
    {
      "cell_type": "code",
      "metadata": {
        "id": "WJ1U01ZjivKe",
        "colab_type": "code",
        "colab": {}
      },
      "source": [
        "from pytrends.request import TrendReq\n",
        "\n",
        "# Only need to run this once, the rest of requests will use the same session.\n",
        "pytrend = TrendReq()\n",
        "\n",
        "# Create payload and capture API tokens. Only needed for interest_over_time(), interest_by_region() & related_queries()\n",
        "pytrend.build_payload(kw_list=['dead battery', 'jump battery'])\n",
        "\n"
      ],
      "execution_count": 0,
      "outputs": []
    },
    {
      "cell_type": "code",
      "metadata": {
        "id": "XSt6pgNlixMU",
        "colab_type": "code",
        "outputId": "4d7d8f72-ce6c-4c85-a06b-0f4831608e96",
        "colab": {
          "base_uri": "https://localhost:8080/",
          "height": 136
        }
      },
      "source": [
        "# Interest Over Time\n",
        "interest_over_time_df = pytrend.interest_over_time()\n",
        "print(interest_over_time_df.head())\n",
        "\n"
      ],
      "execution_count": 0,
      "outputs": [
        {
          "output_type": "stream",
          "text": [
            "            dead battery  jump battery isPartial\n",
            "date                                            \n",
            "2015-05-10            47            23     False\n",
            "2015-05-17            45            24     False\n",
            "2015-05-24            51            26     False\n",
            "2015-05-31            45            24     False\n",
            "2015-06-07            48            23     False\n"
          ],
          "name": "stdout"
        }
      ]
    },
    {
      "cell_type": "code",
      "metadata": {
        "id": "Uoszd-rDjb8u",
        "colab_type": "code",
        "outputId": "60a3d818-0064-4035-d4d6-db7df1c96800",
        "colab": {
          "base_uri": "https://localhost:8080/",
          "height": 1000
        }
      },
      "source": [
        "# Interest by Region\n",
        "#interest_by_region_df = pytrend.interest_by_region()\n",
        "#print(interest_by_region_df.head())\n",
        "\n",
        "# Related Queries, returns a dictionary of dataframes\n",
        "related_queries_dict = pytrend.related_queries()\n",
        "print(related_queries_dict)\n",
        "\n"
      ],
      "execution_count": 0,
      "outputs": [
        {
          "output_type": "stream",
          "text": [
            "{'dead battery': {'top':                               query  value\n",
            "0                            how to    100\n",
            "1                  car battery dead     99\n",
            "2                       car battery     99\n",
            "3                   battery is dead     95\n",
            "4               car battery is dead     32\n",
            "5                my battery is dead     24\n",
            "6               dead iphone battery     19\n",
            "7               dead battery in car     17\n",
            "8               battery dead on car     14\n",
            "9                   battery charger     12\n",
            "10    car battery dead how to start     12\n",
            "11          jump start dead battery     11\n",
            "12      how to start a dead battery     11\n",
            "13     how to charge a dead battery     10\n",
            "14                       alternator     10\n",
            "15          charge dead car battery     10\n",
            "16           my car battery is dead      9\n",
            "17             car key battery dead      8\n",
            "18   how to tell if battery is dead      8\n",
            "19          battery completely dead      7\n",
            "20  how to start a dead car battery      7\n",
            "21                   car wont start      7\n",
            "22              dead laptop battery      7\n",
            "23                   jump start car      7\n",
            "24        how to charge car battery      6, 'rising':                                                 query  value\n",
            "0                        nintendo switch dead battery  16000\n",
            "1                               fear the walking dead   7600\n",
            "2            correct way to jump start a dead battery   2450\n",
            "3                                    autozone near me    650\n",
            "4                               iphone 6 dead battery    450\n",
            "5                                         sentry safe    200\n",
            "6                   how to recondition a dead battery    190\n",
            "7                            sentry safe battery dead    180\n",
            "8              how to open trunk when battery is dead    170\n",
            "9     how to put a car in neutral with a dead battery    160\n",
            "10                  how to restore a dead car battery    140\n",
            "11           how to bring a dead battery back to life    130\n",
            "12  how to start an automatic car with a dead battery    130\n",
            "13                               car key battery dead    130\n",
            "14                                  dead battery club    110\n",
            "15                     how long do car batteries last    110\n",
            "16                 battery dead key stuck in ignition     90\n",
            "17                              key stuck in ignition     90\n",
            "18                what to do when car battery is dead     80\n",
            "19                         why is my car battery dead     80}, 'jump battery': {'top':                         query  value\n",
            "0                    jump car    100\n",
            "1            jump battery car     99\n",
            "2                 car battery     98\n",
            "3          battery jump start     84\n",
            "4                  jump start     81\n",
            "5         how to jump battery     54\n",
            "6             battery starter     54\n",
            "7                jump starter     54\n",
            "8        battery jump starter     53\n",
            "9          jump a car battery     48\n",
            "10                 jump a car     48\n",
            "11             car jump start     42\n",
            "12      how to jump a battery     39\n",
            "13    how to jump car battery     34\n",
            "14            how to jump car     34\n",
            "15  how to jump a car battery     27\n",
            "16          how to jump a car     27\n",
            "17  how to jump start battery     26\n",
            "18          how to jump start     25\n",
            "19            battery charger     25\n",
            "20                car starter     25\n",
            "21           car jump starter     24\n",
            "22        car battery starter     23\n",
            "23          jump dead battery     22\n",
            "24               dead battery     21, 'rising':                                         query  value\n",
            "0                       red fuel jump starter   8700\n",
            "1    correct way to jump start a dead battery   3850\n",
            "2      everstart lithium battery jump starter   3750\n",
            "3          battery jump start service near me   1150\n",
            "4                            autozone near me    750\n",
            "5                   everstart battery charger    550\n",
            "6                          auto parts near me    500\n",
            "7                      dewalt battery charger    350\n",
            "8                lithium battery jump starter    300\n",
            "9                 antigravity batteries xp-10    150\n",
            "10                 chevy equinox battery jump    130\n",
            "11                          everstart battery    100\n",
            "12                     jump car battery order     90\n",
            "13                         battery jumper box     80\n",
            "14                                   triple a     80\n",
            "15           car battery jump starter walmart     80\n",
            "16                   duralast battery charger     80\n",
            "17                  portable car jump starter     80\n",
            "18                  best battery jump starter     80\n",
            "19                  how to connect jump leads     80\n",
            "20                 battery jump start service     70\n",
            "21              best car battery jump starter     70\n",
            "22  how to jump a car without another battery     60\n",
            "23                                car starter     50}}\n"
          ],
          "name": "stdout"
        }
      ]
    },
    {
      "cell_type": "code",
      "metadata": {
        "id": "3QGjiCJvjj7S",
        "colab_type": "code",
        "outputId": "0ac548b1-bdeb-4980-b333-d254b61e7fdf",
        "colab": {
          "base_uri": "https://localhost:8080/",
          "height": 119
        }
      },
      "source": [
        "# Get Google Hot Trends data\n",
        "trending_searches_df = pytrend.trending_searches()\n",
        "print(trending_searches_df.head())\n"
      ],
      "execution_count": 0,
      "outputs": [
        {
          "output_type": "stream",
          "text": [
            "                     0\n",
            "0                Adele\n",
            "1   IRS stimulus check\n",
            "2  National Nurses Day\n",
            "3  Blue Angels flyover\n",
            "4        Sirtfood diet\n"
          ],
          "name": "stdout"
        }
      ]
    },
    {
      "cell_type": "code",
      "metadata": {
        "id": "GNK1nud9jnPn",
        "colab_type": "code",
        "outputId": "34ad9607-3dc2-4586-b9fb-c5e312afcebb",
        "colab": {
          "base_uri": "https://localhost:8080/",
          "height": 119
        }
      },
      "source": [
        "\n",
        "# Get Google Hot Trends data\n",
        "today_searches_df = pytrend.today_searches()\n",
        "print(today_searches_df.head())\n"
      ],
      "execution_count": 0,
      "outputs": [
        {
          "output_type": "stream",
          "text": [
            "0                  Adele\n",
            "1     IRS stimulus check\n",
            "2    National Nurses Day\n",
            "3    Blue Angels flyover\n",
            "4      Florian Schneider\n",
            "Name: query, dtype: object\n"
          ],
          "name": "stdout"
        }
      ]
    },
    {
      "cell_type": "code",
      "metadata": {
        "id": "vIihaRJFjrMi",
        "colab_type": "code",
        "outputId": "9b86b0af-852c-47f1-99d7-0095fcf4eace",
        "colab": {
          "base_uri": "https://localhost:8080/",
          "height": 119
        }
      },
      "source": [
        "\n",
        "# Get Google Top Charts\n",
        "top_charts_df = pytrend.top_charts(2018, hl='en-US', tz=300, geo='GLOBAL')\n",
        "print(top_charts_df.head())\n"
      ],
      "execution_count": 0,
      "outputs": [
        {
          "output_type": "stream",
          "text": [
            "           title exploreQuery\n",
            "0      World Cup             \n",
            "1         Avicii             \n",
            "2     Mac Miller             \n",
            "3       Stan Lee             \n",
            "4  Black Panther             \n"
          ],
          "name": "stdout"
        }
      ]
    },
    {
      "cell_type": "code",
      "metadata": {
        "id": "GKwIamyLjuDO",
        "colab_type": "code",
        "outputId": "14d591b2-7b75-4b62-d8b3-8ff9c2a21781",
        "colab": {
          "base_uri": "https://localhost:8080/",
          "height": 54
        }
      },
      "source": [
        "\n",
        "# Get Google Keyword Suggestions\n",
        "suggestions_dict = pytrend.suggestions(keyword='battery')\n",
        "print(suggestions_dict)"
      ],
      "execution_count": 0,
      "outputs": [
        {
          "output_type": "stream",
          "text": [
            "[{'mid': '/m/01c0z', 'title': 'Electric battery', 'type': 'Topic'}, {'mid': '/m/01t2kf', 'title': 'Corporal Injury', 'type': 'Injury'}, {'mid': '/m/04sr12', 'title': 'Battery Park', 'type': 'Manhattan'}, {'mid': '/m/0892cv', 'title': 'Battery charger', 'type': 'Topic'}, {'mid': '/m/01cmg_', 'title': 'Rechargeable battery', 'type': 'Topic'}]\n"
          ],
          "name": "stdout"
        }
      ]
    }
  ]
}